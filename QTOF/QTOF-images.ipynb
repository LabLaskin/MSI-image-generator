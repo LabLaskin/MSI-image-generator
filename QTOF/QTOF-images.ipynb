{
 "cells": [
  {
   "cell_type": "code",
   "execution_count": 9,
   "metadata": {},
   "outputs": [
    {
     "name": "stdout",
     "output_type": "stream",
     "text": [
      "Finish modules, defs and variables import, next step: check the dimensionality of this MSI data set.\n"
     ]
    }
   ],
   "source": [
    "#===========================================\n",
    "# import modules, defs and variables\n",
    "#===========================================\n",
    "exec(open(\"./MSI-generator-def.py\").read())\n",
    "\n",
    "print('Finish modules, defs and variables import, next step: check the dimensionality of this MSI data set.')"
   ]
  },
  {
   "cell_type": "markdown",
   "metadata": {},
   "source": [
    "### configurations"
   ]
  },
  {
   "cell_type": "code",
   "execution_count": 2,
   "metadata": {},
   "outputs": [],
   "source": [
    "# raw file path without the line number or extension\n",
    "NameBody =  r\".\\data\\data-file-line\"    # edit\n",
    "# file extension\n",
    "NamePost = \".d\"                                                           # edit\n",
    "\n",
    "# specify mass list file dir\n",
    "MassList_dir = r\".\\data\\QTOF-mass-list.xlsx\"                    # edit\n",
    "\n",
    "# mass window (ppm)\n",
    "MassTolerance = 10\n",
    "\n",
    "# Locate the extraction output folder. \n",
    "MSI_data_output = r\".\\output\"                   # edit"
   ]
  },
  {
   "cell_type": "code",
   "execution_count": 3,
   "metadata": {
    "scrolled": true
   },
   "outputs": [
    {
     "name": "stdout",
     "output_type": "stream",
     "text": [
      "           # of spectra\n",
      "# of line              \n",
      "0                   166\n",
      "1                   166\n",
      "2                   167\n",
      "3                   167\n",
      "4                   167\n",
      "5                   167\n",
      "6                   167\n",
      "\n",
      "line scan spectra summary\n",
      "# of lines is: 7\n",
      "mean # of spectra is: 167\n",
      "min # of spectra is: 166\n"
     ]
    }
   ],
   "source": [
    "# import mass list\n",
    "# Mass list should be an excel sheet with a header \"m/z\"\n",
    "df_MassList = pd.read_excel(MassList_dir)\n",
    "MassList = df_MassList['m/z'].values\n",
    "\n",
    "# get a list of all raw files\n",
    "LineList = Get_LineList(NameBody, NamePost)\n",
    "\n",
    "# check dimensions for all line scans\n",
    "NumSpePerLine_unaligned, tot_acq_times = check_dim(LineList, NameBody, NamePost)\n",
    "\n",
    "# define total acquisition time to align pixels\n",
    "AcqTime = np.mean(tot_acq_times)\n",
    "NumSpePerLine = int(round(NumSpePerLine_unaligned.mean().item()))\n",
    "TimeStamps_aligned = np.linspace(0, AcqTime, NumSpePerLine)"
   ]
  },
  {
   "cell_type": "markdown",
   "metadata": {},
   "source": [
    "### peak intensity extraction for all pixels (with time stamp alignment)"
   ]
  },
  {
   "cell_type": "code",
   "execution_count": 4,
   "metadata": {
    "scrolled": true
   },
   "outputs": [
    {
     "name": "stdout",
     "output_type": "stream",
     "text": [
      "line 0 is done, running time is:\n",
      "4.73 s\n",
      " \n",
      "line 1 is done, running time is:\n",
      "4.35 s\n",
      " \n",
      "line 2 is done, running time is:\n",
      "4.41 s\n",
      " \n",
      "line 3 is done, running time is:\n",
      "4.32 s\n",
      " \n",
      "line 4 is done, running time is:\n",
      "4.89 s\n",
      " \n",
      "line 5 is done, running time is:\n",
      "4.94 s\n",
      " \n",
      "line 6 is done, running time is:\n",
      "4.55 s\n",
      " \n"
     ]
    }
   ],
   "source": [
    "# pixel intensity extraction\n",
    "pixels = get_pixels_values_nofilter(NameBody, NamePost, LineList, NumSpePerLine_unaligned, TimeStamps_aligned, MassList, MassTolerance)\n",
    "pixels = np.reshape(pixels, (len(LineList), int(pixels.shape[0]/len(LineList)), pixels.shape[1]))"
   ]
  },
  {
   "cell_type": "code",
   "execution_count": 17,
   "metadata": {},
   "outputs": [],
   "source": [
    "#===========================================\n",
    "# save/load file\n",
    "#===========================================\n",
    "## save file\n",
    "Save_dir = MSI_data_output+'\\\\pixels.npy'\n",
    "np.save(Save_dir, pixels)\n",
    "\n",
    "## load file\n",
    "#pixels = np.load(MSI_data_output+'\\\\pixels.npy')\n",
    "#pixels.shape"
   ]
  },
  {
   "cell_type": "code",
   "execution_count": 5,
   "metadata": {},
   "outputs": [
    {
     "name": "stdout",
     "output_type": "stream",
     "text": [
      "29.642857142857142\n"
     ]
    }
   ],
   "source": [
    "# determine aspect ratio of image\n",
    "width = 7*1000 # um\n",
    "height = 7.5*1000 # um\n",
    "\n",
    "aspect_ratio = (height/(pixels.shape[0]-1))/(width/(pixels.shape[1]-1))\n",
    "print(aspect_ratio)"
   ]
  },
  {
   "cell_type": "markdown",
   "metadata": {},
   "source": [
    "### generate TIC image"
   ]
  },
  {
   "cell_type": "code",
   "execution_count": 6,
   "metadata": {},
   "outputs": [],
   "source": [
    "pixels_TIC = pixels[:,:,0]\n",
    "pixels_feature = pixels[:,:,1:]\n",
    "pixels_feature_TICnorm = pixels_feature/pixels_TIC[:,:,None]"
   ]
  },
  {
   "cell_type": "code",
   "execution_count": null,
   "metadata": {},
   "outputs": [],
   "source": [
    "# Plot and/or save images:\n",
    "# arguments are: \n",
    "#   pixels_feature = The array of images of shape (lines, scans, m/z). Edit this argument to be the correct array\n",
    "#   MassList: No need to edit\n",
    "#   includes_TIC: True if the first image of the array is the TIC\n",
    "#   scale: scale pixel intensities to this quantile                \n",
    "#   aspect: no need to edit\n",
    "#   cmap: the colormap to use for display\n",
    "#   savefig: True to save the images\n",
    "#   savedir: The directory to save the images into\n",
    "show_ms1_imgs(pixels_feature, MassList, includes_TIC = False, scale = .999, aspect = aspect_ratio, cmap = 'viridis', savefig = True, savedir = MSI_data_output)"
   ]
  },
  {
   "cell_type": "markdown",
   "metadata": {},
   "source": [
    "### internal standard normalization"
   ]
  },
  {
   "cell_type": "code",
   "execution_count": 11,
   "metadata": {},
   "outputs": [],
   "source": [
    "# the 0-indexed location of your internal standard in your MassList.\n",
    "intl_std_index = 1\n",
    "\n",
    "pixels_std = pixels_feature[:,:,intl_std_index].copy()\n",
    "pixels_stdnorm = pixels_feature/pixels_std[:,:,None]"
   ]
  },
  {
   "cell_type": "code",
   "execution_count": null,
   "metadata": {},
   "outputs": [],
   "source": [
    "show_ms1_imgs(pixels_feature, MassList, includes_TIC = False, scale = .999, aspect = aspect_ratio, cmap = 'viridis', savefig = False, savedir = MSI_data_output)"
   ]
  }
 ],
 "metadata": {
  "kernelspec": {
   "display_name": "Python 3",
   "language": "python",
   "name": "python3"
  },
  "language_info": {
   "codemirror_mode": {
    "name": "ipython",
    "version": 3
   },
   "file_extension": ".py",
   "mimetype": "text/x-python",
   "name": "python",
   "nbconvert_exporter": "python",
   "pygments_lexer": "ipython3",
   "version": "3.9.16"
  }
 },
 "nbformat": 4,
 "nbformat_minor": 4
}
